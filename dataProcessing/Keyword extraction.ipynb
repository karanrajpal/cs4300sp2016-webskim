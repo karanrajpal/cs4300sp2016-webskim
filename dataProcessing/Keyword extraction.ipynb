{
 "cells": [
  {
   "cell_type": "code",
   "execution_count": 8,
   "metadata": {
    "collapsed": false
   },
   "outputs": [
    {
     "name": "stdout",
     "output_type": "stream",
     "text": [
      "Wrote file for category sports\n"
     ]
    }
   ],
   "source": [
    "from __future__ import print_function\n",
    "import bs4\n",
    "import os\n",
    "import fnmatch\n",
    "final_content = \"\"\n",
    "category = 'sports'\n",
    "\n",
    "def makeLabels(raw_html):\n",
    "    bsoup = bs4.BeautifulSoup(raw_html)\n",
    "    content_for_this_article = \"\"\n",
    "    global final_content\n",
    "    for hit in bsoup.findAll(attrs={'name' : 'keywords'}):\n",
    "            content_for_this_article += hit['content'].lower()\n",
    "            content_for_this_article += '\\n'\n",
    "    final_content+=content_for_this_article.encode('ascii', 'ignore')\n",
    "\n",
    "for folder, subs, files in os.walk(category):\n",
    "    for index, transcript_filename in enumerate(fnmatch.filter(files, '*.html')):\n",
    "        with open(os.path.join(folder, transcript_filename)) as f:\n",
    "            makeLabels(f.read())\n",
    "\n",
    "f = open('labeldata/'+category+'/'+category+'keywords.txt', 'w')\n",
    "f.write(final_content)\n",
    "print(\"Wrote file for category \"+category)\n",
    "f.close()"
   ]
  }
 ],
 "metadata": {
  "kernelspec": {
   "display_name": "Python 2",
   "language": "python",
   "name": "python2"
  },
  "language_info": {
   "codemirror_mode": {
    "name": "ipython",
    "version": 2
   },
   "file_extension": ".py",
   "mimetype": "text/x-python",
   "name": "python",
   "nbconvert_exporter": "python",
   "pygments_lexer": "ipython2",
   "version": "2.7.11"
  }
 },
 "nbformat": 4,
 "nbformat_minor": 0
}
