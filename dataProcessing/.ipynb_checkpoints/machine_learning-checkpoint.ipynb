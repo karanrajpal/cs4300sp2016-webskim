{
 "cells": [
  {
   "cell_type": "code",
   "execution_count": 132,
   "metadata": {
    "collapsed": false
   },
   "outputs": [
    {
     "name": "stdout",
     "output_type": "stream",
     "text": [
      "output ready\n"
     ]
    }
   ],
   "source": [
    "from __future__ import print_function\n",
    "import bs4\n",
    "import sys\n",
    "import os\n",
    "import fnmatch\n",
    "final_content = \"\"\n",
    "category = 'business'\n",
    "\n",
    "def makeLabels(raw_html):\n",
    "    bsoup = bs4.BeautifulSoup(raw_html)\n",
    "    content_for_this_article = \"\"\n",
    "    global final_content\n",
    "    for hit in bsoup.findAll(attrs={'name' : 'keywords'}):\n",
    "            content_for_this_article += hit['content'].lower()\n",
    "            content_for_this_article += '\\n'\n",
    "    final_content+=content_for_this_article.encode('ascii', 'ignore')\n",
    "\n",
    "for folder, subs, files in os.walk(category):\n",
    "    for index, transcript_filename in enumerate(fnmatch.filter(files, '*.html')):\n",
    "        with open(os.path.join(folder, transcript_filename)) as f:\n",
    "            makeLabels(f.read())\n",
    "\n",
    "f = open('labeldata/'+category+'/'+category+'keywords.txt', 'w')\n",
    "f.write(final_content)\n",
    "print(\"Wrote file for category \"+category)\n",
    "f.close()\n"
   ]
  },
  {
   "cell_type": "code",
   "execution_count": 59,
   "metadata": {
    "collapsed": false
   },
   "outputs": [],
   "source": [
    "from sklearn.datasets import load_files"
   ]
  },
  {
   "cell_type": "code",
   "execution_count": 68,
   "metadata": {
    "collapsed": false
   },
   "outputs": [],
   "source": [
    "labeldata = load_files(container_path=\"labeldata\")"
   ]
  },
  {
   "cell_type": "code",
   "execution_count": 81,
   "metadata": {
    "collapsed": false
   },
   "outputs": [
    {
     "name": "stdout",
     "output_type": "stream",
     "text": [
      "['business', 'politics', 'sports']\n",
      "business\n"
     ]
    }
   ],
   "source": [
    "print(labeldata.target_names)\n",
    "print(labeldata.target_names[labeldata.target[2]])\n",
    "# print(labeldata.data[2])"
   ]
  },
  {
   "cell_type": "code",
   "execution_count": 85,
   "metadata": {
    "collapsed": false
   },
   "outputs": [
    {
     "name": "stdout",
     "output_type": "stream",
     "text": [
      "(3, 3085)\n"
     ]
    }
   ],
   "source": [
    "from sklearn.feature_extraction.text import CountVectorizer\n",
    "count_vect = CountVectorizer()\n",
    "X_train_counts = count_vect.fit_transform(labeldata.data)\n",
    "print(X_train_counts.shape)"
   ]
  },
  {
   "cell_type": "code",
   "execution_count": 95,
   "metadata": {
    "collapsed": false
   },
   "outputs": [],
   "source": [
    "from sklearn.naive_bayes import MultinomialNB\n",
    "clf = MultinomialNB().fit(X_train_counts, labeldata.target)"
   ]
  },
  {
   "cell_type": "code",
   "execution_count": 131,
   "metadata": {
    "collapsed": false
   },
   "outputs": [
    {
     "name": "stdout",
     "output_type": "stream",
     "text": [
      "business\n"
     ]
    }
   ],
   "source": [
    "docs_new = [\"basketball jpmorgan trump go to a meet\"]\n",
    "X_new_counts = count_vect.transform(docs_new)\n",
    "predicted = clf.predict(X_new_counts)\n",
    "print(labeldata.target_names[predicted[0]])"
   ]
  }
 ],
 "metadata": {
  "kernelspec": {
   "display_name": "Python 2",
   "language": "python",
   "name": "python2"
  },
  "language_info": {
   "codemirror_mode": {
    "name": "ipython",
    "version": 2
   },
   "file_extension": ".py",
   "mimetype": "text/x-python",
   "name": "python",
   "nbconvert_exporter": "python",
   "pygments_lexer": "ipython2",
   "version": "2.7.11"
  }
 },
 "nbformat": 4,
 "nbformat_minor": 0
}
